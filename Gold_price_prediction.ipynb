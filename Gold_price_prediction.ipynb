{
  "nbformat": 4,
  "nbformat_minor": 0,
  "metadata": {
    "colab": {
      "name": "Gold price prediction.ipynb",
      "provenance": [],
      "authorship_tag": "ABX9TyPJluzW1JuRyGKoEWmdwhvv",
      "include_colab_link": true
    },
    "kernelspec": {
      "name": "python3",
      "display_name": "Python 3"
    },
    "language_info": {
      "name": "python"
    }
  },
  "cells": [
    {
      "cell_type": "markdown",
      "metadata": {
        "id": "view-in-github",
        "colab_type": "text"
      },
      "source": [
        "<a href=\"https://colab.research.google.com/github/Ganeshsawant01/Gold-price-prediction/blob/main/Gold_price_prediction.ipynb\" target=\"_parent\"><img src=\"https://colab.research.google.com/assets/colab-badge.svg\" alt=\"Open In Colab\"/></a>"
      ]
    },
    {
      "cell_type": "markdown",
      "metadata": {
        "id": "hu4DttB2KVvb"
      },
      "source": [
        "Importin libraries"
      ]
    },
    {
      "cell_type": "code",
      "metadata": {
        "id": "mR9At9EmKZR8"
      },
      "source": [
        "import numpy as np\n",
        "import pandas as pd\n",
        "import matplotlib.pyplot as plt\n",
        "import seaborn as sns\n",
        "from sklearn.model_selection import train_test_split\n",
        "from sklearn.ensemble import RandomForestRegressor\n",
        "from sklearn import metrics\n"
      ],
      "execution_count": null,
      "outputs": []
    },
    {
      "cell_type": "markdown",
      "metadata": {
        "id": "IwjN6stTMEZg"
      },
      "source": [
        "Data collection and processing"
      ]
    },
    {
      "cell_type": "code",
      "metadata": {
        "id": "JQZbUFR9MIL0"
      },
      "source": [
        "#loading the csv data to pandas dataframe\n",
        "gold_data= pd.read_csv('/content/gld_price_data.csv')"
      ],
      "execution_count": null,
      "outputs": []
    },
    {
      "cell_type": "code",
      "metadata": {
        "colab": {
          "base_uri": "https://localhost:8080/",
          "height": 204
        },
        "id": "8ym8c8nVMTa5",
        "outputId": "ae561953-8267-4b3c-d10b-0969ecca4356"
      },
      "source": [
        "#print first 5 rows\n",
        "gold_data.head()"
      ],
      "execution_count": null,
      "outputs": [
        {
          "output_type": "execute_result",
          "data": {
            "text/html": [
              "<div>\n",
              "<style scoped>\n",
              "    .dataframe tbody tr th:only-of-type {\n",
              "        vertical-align: middle;\n",
              "    }\n",
              "\n",
              "    .dataframe tbody tr th {\n",
              "        vertical-align: top;\n",
              "    }\n",
              "\n",
              "    .dataframe thead th {\n",
              "        text-align: right;\n",
              "    }\n",
              "</style>\n",
              "<table border=\"1\" class=\"dataframe\">\n",
              "  <thead>\n",
              "    <tr style=\"text-align: right;\">\n",
              "      <th></th>\n",
              "      <th>Date</th>\n",
              "      <th>SPX</th>\n",
              "      <th>GLD</th>\n",
              "      <th>USO</th>\n",
              "      <th>SLV</th>\n",
              "      <th>EUR/USD</th>\n",
              "    </tr>\n",
              "  </thead>\n",
              "  <tbody>\n",
              "    <tr>\n",
              "      <th>0</th>\n",
              "      <td>1/2/2008</td>\n",
              "      <td>1447.160034</td>\n",
              "      <td>84.860001</td>\n",
              "      <td>78.470001</td>\n",
              "      <td>15.180</td>\n",
              "      <td>1.471692</td>\n",
              "    </tr>\n",
              "    <tr>\n",
              "      <th>1</th>\n",
              "      <td>1/3/2008</td>\n",
              "      <td>1447.160034</td>\n",
              "      <td>85.570000</td>\n",
              "      <td>78.370003</td>\n",
              "      <td>15.285</td>\n",
              "      <td>1.474491</td>\n",
              "    </tr>\n",
              "    <tr>\n",
              "      <th>2</th>\n",
              "      <td>1/4/2008</td>\n",
              "      <td>1411.630005</td>\n",
              "      <td>85.129997</td>\n",
              "      <td>77.309998</td>\n",
              "      <td>15.167</td>\n",
              "      <td>1.475492</td>\n",
              "    </tr>\n",
              "    <tr>\n",
              "      <th>3</th>\n",
              "      <td>1/7/2008</td>\n",
              "      <td>1416.180054</td>\n",
              "      <td>84.769997</td>\n",
              "      <td>75.500000</td>\n",
              "      <td>15.053</td>\n",
              "      <td>1.468299</td>\n",
              "    </tr>\n",
              "    <tr>\n",
              "      <th>4</th>\n",
              "      <td>1/8/2008</td>\n",
              "      <td>1390.189941</td>\n",
              "      <td>86.779999</td>\n",
              "      <td>76.059998</td>\n",
              "      <td>15.590</td>\n",
              "      <td>1.557099</td>\n",
              "    </tr>\n",
              "  </tbody>\n",
              "</table>\n",
              "</div>"
            ],
            "text/plain": [
              "       Date          SPX        GLD        USO     SLV   EUR/USD\n",
              "0  1/2/2008  1447.160034  84.860001  78.470001  15.180  1.471692\n",
              "1  1/3/2008  1447.160034  85.570000  78.370003  15.285  1.474491\n",
              "2  1/4/2008  1411.630005  85.129997  77.309998  15.167  1.475492\n",
              "3  1/7/2008  1416.180054  84.769997  75.500000  15.053  1.468299\n",
              "4  1/8/2008  1390.189941  86.779999  76.059998  15.590  1.557099"
            ]
          },
          "metadata": {},
          "execution_count": 6
        }
      ]
    },
    {
      "cell_type": "code",
      "metadata": {
        "colab": {
          "base_uri": "https://localhost:8080/",
          "height": 204
        },
        "id": "04oLT7csMndw",
        "outputId": "1fb39577-3587-4984-889e-d33566797233"
      },
      "source": [
        "#print last 5 rows\n",
        "gold_data.tail()"
      ],
      "execution_count": null,
      "outputs": [
        {
          "output_type": "execute_result",
          "data": {
            "text/html": [
              "<div>\n",
              "<style scoped>\n",
              "    .dataframe tbody tr th:only-of-type {\n",
              "        vertical-align: middle;\n",
              "    }\n",
              "\n",
              "    .dataframe tbody tr th {\n",
              "        vertical-align: top;\n",
              "    }\n",
              "\n",
              "    .dataframe thead th {\n",
              "        text-align: right;\n",
              "    }\n",
              "</style>\n",
              "<table border=\"1\" class=\"dataframe\">\n",
              "  <thead>\n",
              "    <tr style=\"text-align: right;\">\n",
              "      <th></th>\n",
              "      <th>Date</th>\n",
              "      <th>SPX</th>\n",
              "      <th>GLD</th>\n",
              "      <th>USO</th>\n",
              "      <th>SLV</th>\n",
              "      <th>EUR/USD</th>\n",
              "    </tr>\n",
              "  </thead>\n",
              "  <tbody>\n",
              "    <tr>\n",
              "      <th>2285</th>\n",
              "      <td>5/8/2018</td>\n",
              "      <td>2671.919922</td>\n",
              "      <td>124.589996</td>\n",
              "      <td>14.0600</td>\n",
              "      <td>15.5100</td>\n",
              "      <td>1.186789</td>\n",
              "    </tr>\n",
              "    <tr>\n",
              "      <th>2286</th>\n",
              "      <td>5/9/2018</td>\n",
              "      <td>2697.790039</td>\n",
              "      <td>124.330002</td>\n",
              "      <td>14.3700</td>\n",
              "      <td>15.5300</td>\n",
              "      <td>1.184722</td>\n",
              "    </tr>\n",
              "    <tr>\n",
              "      <th>2287</th>\n",
              "      <td>5/10/2018</td>\n",
              "      <td>2723.070068</td>\n",
              "      <td>125.180000</td>\n",
              "      <td>14.4100</td>\n",
              "      <td>15.7400</td>\n",
              "      <td>1.191753</td>\n",
              "    </tr>\n",
              "    <tr>\n",
              "      <th>2288</th>\n",
              "      <td>5/14/2018</td>\n",
              "      <td>2730.129883</td>\n",
              "      <td>124.489998</td>\n",
              "      <td>14.3800</td>\n",
              "      <td>15.5600</td>\n",
              "      <td>1.193118</td>\n",
              "    </tr>\n",
              "    <tr>\n",
              "      <th>2289</th>\n",
              "      <td>5/16/2018</td>\n",
              "      <td>2725.780029</td>\n",
              "      <td>122.543800</td>\n",
              "      <td>14.4058</td>\n",
              "      <td>15.4542</td>\n",
              "      <td>1.182033</td>\n",
              "    </tr>\n",
              "  </tbody>\n",
              "</table>\n",
              "</div>"
            ],
            "text/plain": [
              "           Date          SPX         GLD      USO      SLV   EUR/USD\n",
              "2285   5/8/2018  2671.919922  124.589996  14.0600  15.5100  1.186789\n",
              "2286   5/9/2018  2697.790039  124.330002  14.3700  15.5300  1.184722\n",
              "2287  5/10/2018  2723.070068  125.180000  14.4100  15.7400  1.191753\n",
              "2288  5/14/2018  2730.129883  124.489998  14.3800  15.5600  1.193118\n",
              "2289  5/16/2018  2725.780029  122.543800  14.4058  15.4542  1.182033"
            ]
          },
          "metadata": {},
          "execution_count": 7
        }
      ]
    },
    {
      "cell_type": "code",
      "metadata": {
        "colab": {
          "base_uri": "https://localhost:8080/"
        },
        "id": "NxmhJKyPMyyY",
        "outputId": "beaa992e-2e82-4460-85d8-5a55341fc2fb"
      },
      "source": [
        "#number of rows and columns\n",
        "gold_data.shape"
      ],
      "execution_count": null,
      "outputs": [
        {
          "output_type": "execute_result",
          "data": {
            "text/plain": [
              "(2290, 6)"
            ]
          },
          "metadata": {},
          "execution_count": 8
        }
      ]
    },
    {
      "cell_type": "code",
      "metadata": {
        "colab": {
          "base_uri": "https://localhost:8080/"
        },
        "id": "LCYTDeFANVtp",
        "outputId": "cb609958-2c1b-48c1-9551-70cddd752036"
      },
      "source": [
        "#getting some basic info about the data\n",
        "gold_data.info()"
      ],
      "execution_count": null,
      "outputs": [
        {
          "output_type": "stream",
          "name": "stdout",
          "text": [
            "<class 'pandas.core.frame.DataFrame'>\n",
            "RangeIndex: 2290 entries, 0 to 2289\n",
            "Data columns (total 6 columns):\n",
            " #   Column   Non-Null Count  Dtype  \n",
            "---  ------   --------------  -----  \n",
            " 0   Date     2290 non-null   object \n",
            " 1   SPX      2290 non-null   float64\n",
            " 2   GLD      2290 non-null   float64\n",
            " 3   USO      2290 non-null   float64\n",
            " 4   SLV      2290 non-null   float64\n",
            " 5   EUR/USD  2290 non-null   float64\n",
            "dtypes: float64(5), object(1)\n",
            "memory usage: 107.5+ KB\n"
          ]
        }
      ]
    },
    {
      "cell_type": "code",
      "metadata": {
        "colab": {
          "base_uri": "https://localhost:8080/"
        },
        "id": "-HRBTzMwNf3c",
        "outputId": "18e45a02-b9bd-448a-b18e-0ab20ed11319"
      },
      "source": [
        "#checking the missung value\n",
        "gold_data.isnull().sum()"
      ],
      "execution_count": null,
      "outputs": [
        {
          "output_type": "execute_result",
          "data": {
            "text/plain": [
              "Date       0\n",
              "SPX        0\n",
              "GLD        0\n",
              "USO        0\n",
              "SLV        0\n",
              "EUR/USD    0\n",
              "dtype: int64"
            ]
          },
          "metadata": {},
          "execution_count": 10
        }
      ]
    },
    {
      "cell_type": "code",
      "metadata": {
        "colab": {
          "base_uri": "https://localhost:8080/",
          "height": 297
        },
        "id": "HveMGjoJNmJt",
        "outputId": "6a8c29d5-1ca2-4f6b-fbac-5162e06d7b97"
      },
      "source": [
        "#getting statistical mesures of data\n",
        "gold_data.describe()"
      ],
      "execution_count": null,
      "outputs": [
        {
          "output_type": "execute_result",
          "data": {
            "text/html": [
              "<div>\n",
              "<style scoped>\n",
              "    .dataframe tbody tr th:only-of-type {\n",
              "        vertical-align: middle;\n",
              "    }\n",
              "\n",
              "    .dataframe tbody tr th {\n",
              "        vertical-align: top;\n",
              "    }\n",
              "\n",
              "    .dataframe thead th {\n",
              "        text-align: right;\n",
              "    }\n",
              "</style>\n",
              "<table border=\"1\" class=\"dataframe\">\n",
              "  <thead>\n",
              "    <tr style=\"text-align: right;\">\n",
              "      <th></th>\n",
              "      <th>SPX</th>\n",
              "      <th>GLD</th>\n",
              "      <th>USO</th>\n",
              "      <th>SLV</th>\n",
              "      <th>EUR/USD</th>\n",
              "    </tr>\n",
              "  </thead>\n",
              "  <tbody>\n",
              "    <tr>\n",
              "      <th>count</th>\n",
              "      <td>2290.000000</td>\n",
              "      <td>2290.000000</td>\n",
              "      <td>2290.000000</td>\n",
              "      <td>2290.000000</td>\n",
              "      <td>2290.000000</td>\n",
              "    </tr>\n",
              "    <tr>\n",
              "      <th>mean</th>\n",
              "      <td>1654.315776</td>\n",
              "      <td>122.732875</td>\n",
              "      <td>31.842221</td>\n",
              "      <td>20.084997</td>\n",
              "      <td>1.283653</td>\n",
              "    </tr>\n",
              "    <tr>\n",
              "      <th>std</th>\n",
              "      <td>519.111540</td>\n",
              "      <td>23.283346</td>\n",
              "      <td>19.523517</td>\n",
              "      <td>7.092566</td>\n",
              "      <td>0.131547</td>\n",
              "    </tr>\n",
              "    <tr>\n",
              "      <th>min</th>\n",
              "      <td>676.530029</td>\n",
              "      <td>70.000000</td>\n",
              "      <td>7.960000</td>\n",
              "      <td>8.850000</td>\n",
              "      <td>1.039047</td>\n",
              "    </tr>\n",
              "    <tr>\n",
              "      <th>25%</th>\n",
              "      <td>1239.874969</td>\n",
              "      <td>109.725000</td>\n",
              "      <td>14.380000</td>\n",
              "      <td>15.570000</td>\n",
              "      <td>1.171313</td>\n",
              "    </tr>\n",
              "    <tr>\n",
              "      <th>50%</th>\n",
              "      <td>1551.434998</td>\n",
              "      <td>120.580002</td>\n",
              "      <td>33.869999</td>\n",
              "      <td>17.268500</td>\n",
              "      <td>1.303296</td>\n",
              "    </tr>\n",
              "    <tr>\n",
              "      <th>75%</th>\n",
              "      <td>2073.010070</td>\n",
              "      <td>132.840004</td>\n",
              "      <td>37.827501</td>\n",
              "      <td>22.882499</td>\n",
              "      <td>1.369971</td>\n",
              "    </tr>\n",
              "    <tr>\n",
              "      <th>max</th>\n",
              "      <td>2872.870117</td>\n",
              "      <td>184.589996</td>\n",
              "      <td>117.480003</td>\n",
              "      <td>47.259998</td>\n",
              "      <td>1.598798</td>\n",
              "    </tr>\n",
              "  </tbody>\n",
              "</table>\n",
              "</div>"
            ],
            "text/plain": [
              "               SPX          GLD          USO          SLV      EUR/USD\n",
              "count  2290.000000  2290.000000  2290.000000  2290.000000  2290.000000\n",
              "mean   1654.315776   122.732875    31.842221    20.084997     1.283653\n",
              "std     519.111540    23.283346    19.523517     7.092566     0.131547\n",
              "min     676.530029    70.000000     7.960000     8.850000     1.039047\n",
              "25%    1239.874969   109.725000    14.380000    15.570000     1.171313\n",
              "50%    1551.434998   120.580002    33.869999    17.268500     1.303296\n",
              "75%    2073.010070   132.840004    37.827501    22.882499     1.369971\n",
              "max    2872.870117   184.589996   117.480003    47.259998     1.598798"
            ]
          },
          "metadata": {},
          "execution_count": 11
        }
      ]
    },
    {
      "cell_type": "code",
      "metadata": {
        "id": "l2fVF-skN2x7"
      },
      "source": [
        ""
      ],
      "execution_count": null,
      "outputs": []
    },
    {
      "cell_type": "markdown",
      "metadata": {
        "id": "6r1utQqHOJok"
      },
      "source": [
        "Correlation:\n",
        "\n",
        "1.Positive correlation\n",
        "\n",
        "2.Negative correlation"
      ]
    },
    {
      "cell_type": "code",
      "metadata": {
        "id": "7voH2T6aOTEr"
      },
      "source": [
        "correlation= gold_data.corr()"
      ],
      "execution_count": null,
      "outputs": []
    },
    {
      "cell_type": "code",
      "metadata": {
        "colab": {
          "base_uri": "https://localhost:8080/",
          "height": 488
        },
        "id": "lWXogVKGOhp1",
        "outputId": "04a3b4e3-6fe3-4c99-9040-2592e08da9cc"
      },
      "source": [
        "#Constructing a heatmap to understand the correlation\n",
        "plt.figure(figsize= (8,8))\n",
        "sns.heatmap(correlation, cbar=True ,square=True ,fmt='.1f', annot=True ,annot_kws={'size':8},cmap='Blues')"
      ],
      "execution_count": null,
      "outputs": [
        {
          "output_type": "execute_result",
          "data": {
            "text/plain": [
              "<matplotlib.axes._subplots.AxesSubplot at 0x7fa318e20350>"
            ]
          },
          "metadata": {},
          "execution_count": 14
        },
        {
          "output_type": "display_data",
          "data": {
            "image/png": "[encoded data removed]",
            "text/plain": [
              "<Figure size 576x576 with 2 Axes>"
            ]
          },
          "metadata": {
            "needs_background": "light"
          }
        }
      ]
    },
    {
      "cell_type": "code",
      "metadata": {
        "colab": {
          "base_uri": "https://localhost:8080/"
        },
        "id": "3_E37U5hOuDy",
        "outputId": "c128a52f-ea34-4cb2-8d34-ce1ef3267e84"
      },
      "source": [
        "#correlation values of GLD\n",
        "print(correlation ['GLD'])"
      ],
      "execution_count": null,
      "outputs": [
        {
          "output_type": "stream",
          "name": "stdout",
          "text": [
            "SPX        0.049345\n",
            "GLD        1.000000\n",
            "USO       -0.186360\n",
            "SLV        0.866632\n",
            "EUR/USD   -0.024375\n",
            "Name: GLD, dtype: float64\n"
          ]
        }
      ]
    },
    {
      "cell_type": "code",
      "metadata": {
        "colab": {
          "base_uri": "https://localhost:8080/",
          "height": 357
        },
        "id": "kcoInGEIP9EZ",
        "outputId": "9d88d7c9-4d9c-41e0-a638-725b91d530bb"
      },
      "source": [
        "#checking ditribution of the gold price \n",
        "sns.distplot(gold_data['GLD'],color='green')"
      ],
      "execution_count": null,
      "outputs": [
        {
          "output_type": "stream",
          "name": "stderr",
          "text": [
            "/usr/local/lib/python3.7/dist-packages/seaborn/distributions.py:2619: FutureWarning: `distplot` is a deprecated function and will be removed in a future version. Please adapt your code to use either `displot` (a figure-level function with similar flexibility) or `histplot` (an axes-level function for histograms).\n",
            "  warnings.warn(msg, FutureWarning)\n"
          ]
        },
        {
          "output_type": "execute_result",
          "data": {
            "text/plain": [
              "<matplotlib.axes._subplots.AxesSubplot at 0x7fa318e2dd50>"
            ]
          },
          "metadata": {},
          "execution_count": 19
        },
        {
          "output_type": "display_data",
          "data": {
            "image/png": "[encoded data removed]",
            "text/plain": [
              "<Figure size 432x288 with 1 Axes>"
            ]
          },
          "metadata": {
            "needs_background": "light"
          }
        }
      ]
    },
    {
      "cell_type": "markdown",
      "metadata": {
        "id": "f9M-MLyERweT"
      },
      "source": [
        "splitting the features and target"
      ]
    },
    {
      "cell_type": "code",
      "metadata": {
        "id": "OXNa5mc6Rb-T"
      },
      "source": [
        "X = gold_data.drop(['Date','GLD'],axis =1)\n",
        "Y = gold_data['GLD']"
      ],
      "execution_count": null,
      "outputs": []
    },
    {
      "cell_type": "code",
      "metadata": {
        "colab": {
          "base_uri": "https://localhost:8080/"
        },
        "id": "Hx3uyn12SCSM",
        "outputId": "339f3556-f07e-409f-e6c3-517e58649776"
      },
      "source": [
        "print(X)"
      ],
      "execution_count": null,
      "outputs": [
        {
          "output_type": "stream",
          "name": "stdout",
          "text": [
            "              SPX        USO      SLV   EUR/USD\n",
            "0     1447.160034  78.470001  15.1800  1.471692\n",
            "1     1447.160034  78.370003  15.2850  1.474491\n",
            "2     1411.630005  77.309998  15.1670  1.475492\n",
            "3     1416.180054  75.500000  15.0530  1.468299\n",
            "4     1390.189941  76.059998  15.5900  1.557099\n",
            "...           ...        ...      ...       ...\n",
            "2285  2671.919922  14.060000  15.5100  1.186789\n",
            "2286  2697.790039  14.370000  15.5300  1.184722\n",
            "2287  2723.070068  14.410000  15.7400  1.191753\n",
            "2288  2730.129883  14.380000  15.5600  1.193118\n",
            "2289  2725.780029  14.405800  15.4542  1.182033\n",
            "\n",
            "[2290 rows x 4 columns]\n"
          ]
        }
      ]
    },
    {
      "cell_type": "code",
      "metadata": {
        "colab": {
          "base_uri": "https://localhost:8080/"
        },
        "id": "4OUecdvaSFV4",
        "outputId": "5e3f609e-300e-459b-f394-75a513a2d818"
      },
      "source": [
        "print(Y)"
      ],
      "execution_count": null,
      "outputs": [
        {
          "output_type": "stream",
          "name": "stdout",
          "text": [
            "0        84.860001\n",
            "1        85.570000\n",
            "2        85.129997\n",
            "3        84.769997\n",
            "4        86.779999\n",
            "           ...    \n",
            "2285    124.589996\n",
            "2286    124.330002\n",
            "2287    125.180000\n",
            "2288    124.489998\n",
            "2289    122.543800\n",
            "Name: GLD, Length: 2290, dtype: float64\n"
          ]
        }
      ]
    },
    {
      "cell_type": "markdown",
      "metadata": {
        "id": "GGIMd6JsSQyA"
      },
      "source": [
        "Spltting into training data and test data"
      ]
    },
    {
      "cell_type": "code",
      "metadata": {
        "id": "8_eGgjqESV1Y"
      },
      "source": [
        "X_train ,X_test, Y_train , Y_test = train_test_split(X, Y, test_size=0.2,random_state=2)"
      ],
      "execution_count": null,
      "outputs": []
    },
    {
      "cell_type": "markdown",
      "metadata": {
        "id": "assCuMOdU7t9"
      },
      "source": [
        "Model training:\n",
        "\n",
        "Random forest regression"
      ]
    },
    {
      "cell_type": "code",
      "metadata": {
        "id": "PEud9wS7VBZM"
      },
      "source": [
        "regression= RandomForestRegressor(n_estimators=100)\n"
      ],
      "execution_count": null,
      "outputs": []
    },
    {
      "cell_type": "code",
      "metadata": {
        "colab": {
          "base_uri": "https://localhost:8080/"
        },
        "id": "hA9W-zhpVgBt",
        "outputId": "fea71b0f-3ef0-4a49-d391-5f211f4d5b1d"
      },
      "source": [
        "#training the model\n",
        "regression.fit(X_train ,Y_train)"
      ],
      "execution_count": null,
      "outputs": [
        {
          "output_type": "execute_result",
          "data": {
            "text/plain": [
              "RandomForestRegressor(bootstrap=True, ccp_alpha=0.0, criterion='mse',\n",
              "                      max_depth=None, max_features='auto', max_leaf_nodes=None,\n",
              "                      max_samples=None, min_impurity_decrease=0.0,\n",
              "                      min_impurity_split=None, min_samples_leaf=1,\n",
              "                      min_samples_split=2, min_weight_fraction_leaf=0.0,\n",
              "                      n_estimators=100, n_jobs=None, oob_score=False,\n",
              "                      random_state=None, verbose=0, warm_start=False)"
            ]
          },
          "metadata": {},
          "execution_count": 26
        }
      ]
    },
    {
      "cell_type": "markdown",
      "metadata": {
        "id": "aJqSAZFFVyvW"
      },
      "source": [
        "Model evoualtion"
      ]
    },
    {
      "cell_type": "code",
      "metadata": {
        "id": "DE46u8ZUV1wh"
      },
      "source": [
        "#prediction on Test data\n",
        "test_data_prediction =regression.predict(X_test)"
      ],
      "execution_count": null,
      "outputs": []
    },
    {
      "cell_type": "code",
      "metadata": {
        "colab": {
          "base_uri": "https://localhost:8080/"
        },
        "id": "zWVRIOGCV_hn",
        "outputId": "d16cab5b-24fd-469c-c0b5-5f79ddd4b755"
      },
      "source": [
        "print(test_data_prediction)"
      ],
      "execution_count": null,
      "outputs": [
        {
          "output_type": "stream",
          "name": "stdout",
          "text": [
            "[168.56779939  82.10539977 116.1242     127.72170064 120.81200098\n",
            " 154.57879773 150.24109887 126.1309005  117.51009863 126.07270039\n",
            " 116.86030105 172.1961009  141.95859882 167.83479844 115.16780024\n",
            " 117.58190045 140.19110289 170.15550098 159.29390312 161.78499931\n",
            " 154.99470054 125.22990031 175.84909953 157.708402   125.2807003\n",
            "  93.90159986  77.64630002 120.68710021 119.10199969 167.63959955\n",
            "  88.11150065 125.14010034  91.04140064 117.59710035 121.14909864\n",
            " 136.16780094 115.32550114 115.14850042 147.42819966 107.19930102\n",
            " 104.15820222  87.08949798 126.41610056 118.13109997 154.33179947\n",
            " 119.53609998 108.22800021 107.91099819  93.12990068 127.08009772\n",
            "  74.0327008  113.57889911 121.25570001 111.33759952 118.89599906\n",
            " 120.86709925 159.03959997 169.1017009  147.13489684  85.79739876\n",
            "  94.30490039  86.85959909  90.65010037 118.9674007  126.3866006\n",
            " 127.70850006 169.01180032 122.23099921 117.43449877  98.4521003\n",
            " 168.82920202 142.67909812 131.59540242 121.28000198 121.41029926\n",
            " 119.73160036 114.53480116 118.16780064 107.12400073 127.89530034\n",
            " 114.03350017 107.05639995 116.93230049 119.70109849  89.18440092\n",
            "  88.25959879 146.79060195 127.25630001 113.63800027 109.81109824\n",
            " 108.30099893  77.25739894 169.35950162 114.01849903 121.65449865\n",
            " 127.94010211 154.7599983   91.77339928 135.72490149 158.4855038\n",
            " 125.07650104 125.23190077 130.62160157 114.70620108 119.8227\n",
            "  92.06119997 110.18309894 165.96789924 157.24979888 114.22909948\n",
            " 106.7466013   80.15889975 113.30440012 125.95070083 107.15099916\n",
            " 119.31730082 155.05870344 159.46459876 119.74909978 134.73880212\n",
            " 101.49529989 117.50849803 119.14510021 112.86850085 102.85809929\n",
            " 159.89929768  98.95250019 148.07939974 125.60850102 169.48629918\n",
            " 125.545499   127.33119755 127.1351009  113.76099929 112.75430084\n",
            " 123.67009872 101.91979884  89.4866997  124.63049951 101.43439939\n",
            " 107.09709898 113.38340105 117.32650022  99.37869936 121.60100043\n",
            " 163.16739961  87.35699865 106.90749935 117.12410091 127.6883011\n",
            " 123.96650051  80.67539916 120.22040055 157.03199908  87.86190003\n",
            " 110.30429963 119.09969898 172.56109898 103.00919921 105.06220064\n",
            " 122.34870036 157.86319822  87.70779836  93.13270043 112.7332002\n",
            " 177.38399968 114.28479981 119.15050024  95.22260123 126.05890025\n",
            " 166.33320172 114.75590065 116.72870144  88.36109876 149.12040099\n",
            " 120.34789959  89.51429974 112.5269001  116.98940032 118.78140111\n",
            "  87.85729917  94.36499992 116.99509988 118.48460203 120.27170039\n",
            " 126.6260983  121.87620003 148.80970024 165.08250087 118.50019965\n",
            " 120.31390135 150.32320067 118.377699   172.90119892 105.4978993\n",
            " 104.8303013  149.59190123 113.75600037 124.85070081 147.41100041\n",
            " 119.4788008  115.30420051 113.05460005 113.34690196 141.03360103\n",
            " 117.86899778 102.89340024 115.8804011  103.66550161  98.85790041\n",
            " 117.6237008   90.67320003  91.6205004  153.40229845 102.84399963\n",
            " 154.89250098 114.33780162 138.60830113  90.24679834 115.4529993\n",
            " 114.26999974 123.12580017 121.66210038 165.32490182  92.87999942\n",
            " 135.45600085 121.37559921 120.68320071 104.67090036 142.66090247\n",
            " 121.34549947 116.5635003  113.62910056 127.15959716 122.45499955\n",
            " 125.78459959 121.18290043  86.86679913 132.60560129 144.09210225\n",
            "  92.82119948 157.28949973 158.37500252 126.36419905 164.77769955\n",
            " 108.85959974 109.59640077 103.67739822  94.39800022 128.03530338\n",
            " 107.13640042 160.4383997  121.61900034 131.93859983 130.61800185\n",
            " 160.37999933  90.21259855 175.47990179 127.9670003  126.55809929\n",
            "  86.41119905 124.49549935 150.20309718  89.62629989 107.19689929\n",
            " 108.89009999  84.6089987  136.43179956 155.26930223 139.19440356\n",
            "  74.80330033 152.44180128 126.10929982 126.83349987 127.44979881\n",
            " 108.51969935 156.47140071 114.57000088 116.93340101 125.24429903\n",
            " 154.1733017  121.35440007 156.38279822  92.83580064 125.5683018\n",
            " 125.58830044  87.54590037  92.06979938 126.2472994  128.18240364\n",
            " 113.05730011 117.44969721 120.77470024 127.07589758 119.88390134\n",
            " 136.55380083  93.96509966 119.9820003  113.15610105  94.35439941\n",
            " 108.90839963  86.78669891 108.81919974  89.62770015  92.39320024\n",
            " 131.66390304 162.51999993  89.33330004 119.66370087 133.34880161\n",
            " 123.74850029 128.2803018  101.81579843  89.0245987  131.91510106\n",
            " 120.03920064 108.19800004 167.07700108 115.24850033  86.67419897\n",
            " 118.97950064  90.96719959 161.71230049 116.66660044 121.3576001\n",
            " 160.1074978  119.8830995  112.80579949 108.43029892 126.64100004\n",
            "  75.92820012 102.96329981 128.11000363 121.88839892  92.5928002\n",
            " 131.90110105 118.42750104 116.1309999  154.59580272 159.70750044\n",
            " 110.03059957 154.16029837 119.26850088 160.67860079 118.68429984\n",
            " 158.63909921 115.11779946 116.56610026 148.76259962 114.80260082\n",
            " 125.64279865 166.52069964 117.62339981 124.94229911 152.98860399\n",
            " 153.40120248 132.12449977 114.83610033 121.266402   124.86460077\n",
            "  90.01270032 122.92690029 154.78050112 111.76780051 106.88839917\n",
            " 161.75070195 118.27749983 165.74450024 134.09060107 114.95039928\n",
            " 152.99339905 168.70170014 115.26629995 114.20300149 158.64479878\n",
            "  85.3807989  127.02290081 127.9086009  128.83619989 124.2707006\n",
            " 123.63640068  90.47730119 152.84049986  97.23739962 139.35799948\n",
            "  89.11239907 107.0250999  115.00730042 112.74200103 123.7290991\n",
            "  91.40679889 125.43810117 162.29229857 119.78189886 164.98950081\n",
            " 126.63729807 112.46109991 127.4910991   95.00859906  91.29210001\n",
            " 103.3653991  120.7471003   83.05459959 126.21900013 160.13960399\n",
            " 117.33930104 118.33509975 119.94239997 122.87209972 120.09260139\n",
            " 121.63929956 118.2077006  107.24779975 148.23079933 126.17309869\n",
            " 115.74260055  74.06800015 127.83150096 154.67730067 122.19940011\n",
            " 125.62730068  88.84640034 103.26079891 124.62740032 120.16659992\n",
            "  73.35570076 151.16540023 121.00980044 104.55780001  86.38789787\n",
            " 115.20629943 172.2913982  119.73380017 160.09429784 113.28319918\n",
            " 120.8928001  119.02350079  95.99749984 118.89180002 125.76290035\n",
            " 118.42039938  96.30320092 153.71370184 121.80380032 147.93700014\n",
            " 159.78450248 114.17779986 122.61819921 152.11859882 127.04040035\n",
            " 165.94660055 135.12500049 119.94449955 166.99119972 108.17369909\n",
            " 121.95489818 138.13260092 106.20639876]\n"
          ]
        }
      ]
    },
    {
      "cell_type": "code",
      "metadata": {
        "colab": {
          "base_uri": "https://localhost:8080/"
        },
        "id": "JTxXJLTcWHj5",
        "outputId": "d50e42c9-4503-4024-ccee-820bd879c342"
      },
      "source": [
        "#R suqared error\n",
        "error_score = metrics.r2_score(Y_test, test_data_prediction)\n",
        "print('R squared error:' ,error_score)"
      ],
      "execution_count": null,
      "outputs": [
        {
          "output_type": "stream",
          "name": "stdout",
          "text": [
            "R squared error: 0.9897932868334959\n"
          ]
        }
      ]
    },
    {
      "cell_type": "markdown",
      "metadata": {
        "id": "KSQzGRniXK-B"
      },
      "source": [
        "Compare the actual values and predicted values in plot"
      ]
    },
    {
      "cell_type": "code",
      "metadata": {
        "id": "KsUD32jtXR7i"
      },
      "source": [
        "Y_test =list(Y_test)"
      ],
      "execution_count": null,
      "outputs": []
    },
    {
      "cell_type": "code",
      "metadata": {
        "colab": {
          "base_uri": "https://localhost:8080/",
          "height": 295
        },
        "id": "ssj3Vp0sXVqs",
        "outputId": "c140d4cb-3c85-45ca-b189-b57e4b5115a8"
      },
      "source": [
        "plt.plot(Y_test ,color='blue',label='Actual_value')\n",
        "plt.plot(test_data_prdeiction, color='green', label='Predicted value')\n",
        "plt.title('Actual Price vs predicted price')\n",
        "plt.xlabel('Number of values')\n",
        "plt.ylabel('GLD price')\n",
        "plt.legend()\n",
        "plt.show()"
      ],
      "execution_count": 34,
      "outputs": [
        {
          "output_type": "display_data",
          "data": {
            "image/png": "[encoded data removed]",
            "text/plain": [
              "<Figure size 432x288 with 1 Axes>"
            ]
          },
          "metadata": {
            "needs_background": "light"
          }
        }
      ]
    },
    {
      "cell_type": "code",
      "metadata": {
        "id": "WeUEW1XTX5hm"
      },
      "source": [
        ""
      ],
      "execution_count": null,
      "outputs": []
    }
  ]
}